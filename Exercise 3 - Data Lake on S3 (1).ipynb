{
 "cells": [
  {
   "cell_type": "markdown",
   "metadata": {
    "editable": true
   },
   "source": [
    "# Exercise 3 - Data Lake on S3"
   ]
  },
  {
   "cell_type": "code",
   "execution_count": 1,
   "metadata": {
    "editable": true
   },
   "outputs": [],
   "source": [
    "from pyspark.sql import SparkSession\n",
    "import os\n",
    "import configparser"
   ]
  },
  {
   "cell_type": "markdown",
   "metadata": {
    "editable": true
   },
   "source": [
    "# Make sure that your AWS credentials are loaded as env vars"
   ]
  },
  {
   "cell_type": "code",
   "execution_count": 2,
   "metadata": {
    "editable": true
   },
   "outputs": [],
   "source": [
    "config = configparser.ConfigParser()\n",
    "\n",
    "#Normally this file should be in ~/.aws/credentials\n",
    "config.read('dl.cfg')\n",
    "\n",
    "os.environ[\"AWS_ACCESS_KEY_ID\"]= config['AWS']['AWS_ACCESS_KEY_ID']\n",
    "os.environ[\"AWS_SECRET_ACCESS_KEY\"]= config['AWS']['AWS_SECRET_ACCESS_KEY']"
   ]
  },
  {
   "cell_type": "markdown",
   "metadata": {
    "editable": true
   },
   "source": [
    "# Create spark session with hadoop-aws package"
   ]
  },
  {
   "cell_type": "code",
   "execution_count": 3,
   "metadata": {
    "editable": true
   },
   "outputs": [],
   "source": [
    "spark = SparkSession.builder\\\n",
    "                     .config(\"spark.jars.packages\",\"org.apache.hadoop:hadoop-aws:2.7.0\")\\\n",
    "                     .getOrCreate()"
   ]
  },
  {
   "cell_type": "markdown",
   "metadata": {
    "editable": true
   },
   "source": [
    "## The etl.py script runs without errors.\n",
    "\n",
    "The script, etl.py, runs in the terminal without errors. The script reads song_data and load_data from S3, transforms them to create five different tables, and writes them to partitioned parquet files in table directories on S3.\n",
    "\n",
    "## Analytics tables are correctly organized on S3.\n",
    "\n",
    "Each of the five tables are written to parquet files in a separate analytics directory on S3. Each table has its own folder within the directory. Songs table files are partitioned by year and then artist. Time table files are partitioned by year and month. Songplays table files are partitioned by year and month.\n",
    "\n",
    "## The correct data is included in all tables.\n",
    "\n",
    "Each table includes the right columns and data types. Duplicates are addressed where appropriate."
   ]
  },
  {
   "cell_type": "markdown",
   "metadata": {
    "editable": true
   },
   "source": [
    "# Load data from S3"
   ]
  },
  {
   "cell_type": "code",
   "execution_count": 4,
   "metadata": {
    "editable": true
   },
   "outputs": [],
   "source": [
    "input_data = \"s3a://udacity-dend/\"\n",
    "output_data = \"s3a://project4dend/\"\n",
    "    "
   ]
  },
  {
   "cell_type": "code",
   "execution_count": 5,
   "metadata": {
    "editable": true
   },
   "outputs": [],
   "source": [
    "df = spark.read.json(\"s3a://udacity-dend/song_data/A/B/C/*.json\")# s3a://udacity-dend/song_data/*/*/*/*.json to read the whole data"
   ]
  },
  {
   "cell_type": "code",
   "execution_count": 6,
   "metadata": {
    "editable": true
   },
   "outputs": [
    {
     "name": "stdout",
     "output_type": "stream",
     "text": [
      "root\n",
      " |-- artist_id: string (nullable = true)\n",
      " |-- artist_latitude: double (nullable = true)\n",
      " |-- artist_location: string (nullable = true)\n",
      " |-- artist_longitude: double (nullable = true)\n",
      " |-- artist_name: string (nullable = true)\n",
      " |-- duration: double (nullable = true)\n",
      " |-- num_songs: long (nullable = true)\n",
      " |-- song_id: string (nullable = true)\n",
      " |-- title: string (nullable = true)\n",
      " |-- year: long (nullable = true)\n",
      "\n"
     ]
    },
    {
     "data": {
      "text/html": [
       "<div>\n",
       "<style scoped>\n",
       "    .dataframe tbody tr th:only-of-type {\n",
       "        vertical-align: middle;\n",
       "    }\n",
       "\n",
       "    .dataframe tbody tr th {\n",
       "        vertical-align: top;\n",
       "    }\n",
       "\n",
       "    .dataframe thead th {\n",
       "        text-align: right;\n",
       "    }\n",
       "</style>\n",
       "<table border=\"1\" class=\"dataframe\">\n",
       "  <thead>\n",
       "    <tr style=\"text-align: right;\">\n",
       "      <th></th>\n",
       "      <th>artist_id</th>\n",
       "      <th>artist_latitude</th>\n",
       "      <th>artist_location</th>\n",
       "      <th>artist_longitude</th>\n",
       "      <th>artist_name</th>\n",
       "      <th>duration</th>\n",
       "      <th>num_songs</th>\n",
       "      <th>song_id</th>\n",
       "      <th>title</th>\n",
       "      <th>year</th>\n",
       "    </tr>\n",
       "  </thead>\n",
       "  <tbody>\n",
       "    <tr>\n",
       "      <th>0</th>\n",
       "      <td>ARLTWXK1187FB5A3F8</td>\n",
       "      <td>32.74863</td>\n",
       "      <td>Fort Worth, TX</td>\n",
       "      <td>-97.32925</td>\n",
       "      <td>King Curtis</td>\n",
       "      <td>326.00771</td>\n",
       "      <td>1</td>\n",
       "      <td>SODREIN12A58A7F2E5</td>\n",
       "      <td>A Whiter Shade Of Pale (Live @ Fillmore West)</td>\n",
       "      <td>0</td>\n",
       "    </tr>\n",
       "    <tr>\n",
       "      <th>1</th>\n",
       "      <td>ARIOZCU1187FB3A3DC</td>\n",
       "      <td>NaN</td>\n",
       "      <td>Hamlet, NC</td>\n",
       "      <td>NaN</td>\n",
       "      <td>JOHN COLTRANE</td>\n",
       "      <td>220.44689</td>\n",
       "      <td>1</td>\n",
       "      <td>SOCEMJV12A6D4F7667</td>\n",
       "      <td>Giant Steps (Alternate Version_ Take 5_ Altern...</td>\n",
       "      <td>0</td>\n",
       "    </tr>\n",
       "    <tr>\n",
       "      <th>2</th>\n",
       "      <td>ARPFHN61187FB575F6</td>\n",
       "      <td>41.88415</td>\n",
       "      <td>Chicago, IL</td>\n",
       "      <td>-87.63241</td>\n",
       "      <td>Lupe Fiasco</td>\n",
       "      <td>279.97995</td>\n",
       "      <td>1</td>\n",
       "      <td>SOWQTQZ12A58A7B63E</td>\n",
       "      <td>Streets On Fire (Explicit Album Version)</td>\n",
       "      <td>0</td>\n",
       "    </tr>\n",
       "  </tbody>\n",
       "</table>\n",
       "</div>"
      ],
      "text/plain": [
       "            artist_id  artist_latitude artist_location  artist_longitude  \\\n",
       "0  ARLTWXK1187FB5A3F8         32.74863  Fort Worth, TX         -97.32925   \n",
       "1  ARIOZCU1187FB3A3DC              NaN      Hamlet, NC               NaN   \n",
       "2  ARPFHN61187FB575F6         41.88415     Chicago, IL         -87.63241   \n",
       "\n",
       "     artist_name   duration  num_songs             song_id  \\\n",
       "0    King Curtis  326.00771          1  SODREIN12A58A7F2E5   \n",
       "1  JOHN COLTRANE  220.44689          1  SOCEMJV12A6D4F7667   \n",
       "2    Lupe Fiasco  279.97995          1  SOWQTQZ12A58A7B63E   \n",
       "\n",
       "                                               title  year  \n",
       "0      A Whiter Shade Of Pale (Live @ Fillmore West)     0  \n",
       "1  Giant Steps (Alternate Version_ Take 5_ Altern...     0  \n",
       "2           Streets On Fire (Explicit Album Version)     0  "
      ]
     },
     "execution_count": 6,
     "metadata": {},
     "output_type": "execute_result"
    }
   ],
   "source": [
    "df.printSchema()\n",
    "df.limit(3).toPandas()"
   ]
  },
  {
   "cell_type": "markdown",
   "metadata": {
    "editable": true
   },
   "source": [
    "# schema"
   ]
  },
  {
   "cell_type": "markdown",
   "metadata": {
    "editable": true
   },
   "source": [
    "Spark DataFrames schemas are defined as a collection of typed columns. The entire schema is stored as a StructType and individual columns are stored as StructFields.\n",
    "\n"
   ]
  },
  {
   "cell_type": "code",
   "execution_count": 14,
   "metadata": {
    "editable": true
   },
   "outputs": [],
   "source": [
    "\n",
    "from pyspark.sql.functions import monotonically_increasing_id\n",
    "from pyspark.sql.types import StructType as R, StructField as Fld, DoubleType as Dbl, StringType as Str, IntegerType as Int, DateType as Dat, TimestampType\n",
    "\n",
    "\n",
    "songSchema = R([\n",
    "        Fld(\"artist_id\",Str()),\n",
    "        Fld(\"artist_latitude\",Dbl()),\n",
    "        Fld(\"artist_location\",Str()),\n",
    "        Fld(\"artist_longitude\",Dbl()),\n",
    "        Fld(\"artist_name\",Str()),\n",
    "        Fld(\"duration\",Dbl()),\n",
    "        Fld(\"num_songs\",Int()),\n",
    "        Fld(\"title\",Str()),\n",
    "        Fld(\"year\",Int()),\n",
    "    ])\n",
    "\n",
    "df = spark.read.json(\"s3a://udacity-dend/song_data/A/B/C/*.json\",\n",
    "                     schema= songSchema)"
   ]
  },
  {
   "cell_type": "code",
   "execution_count": 15,
   "metadata": {
    "editable": true
   },
   "outputs": [
    {
     "name": "stdout",
     "output_type": "stream",
     "text": [
      "root\n",
      " |-- artist_id: string (nullable = true)\n",
      " |-- artist_latitude: double (nullable = true)\n",
      " |-- artist_location: string (nullable = true)\n",
      " |-- artist_longitude: double (nullable = true)\n",
      " |-- artist_name: string (nullable = true)\n",
      " |-- duration: double (nullable = true)\n",
      " |-- num_songs: integer (nullable = true)\n",
      " |-- title: string (nullable = true)\n",
      " |-- year: integer (nullable = true)\n",
      "\n"
     ]
    },
    {
     "data": {
      "text/html": [
       "<div>\n",
       "<style scoped>\n",
       "    .dataframe tbody tr th:only-of-type {\n",
       "        vertical-align: middle;\n",
       "    }\n",
       "\n",
       "    .dataframe tbody tr th {\n",
       "        vertical-align: top;\n",
       "    }\n",
       "\n",
       "    .dataframe thead th {\n",
       "        text-align: right;\n",
       "    }\n",
       "</style>\n",
       "<table border=\"1\" class=\"dataframe\">\n",
       "  <thead>\n",
       "    <tr style=\"text-align: right;\">\n",
       "      <th></th>\n",
       "      <th>artist_id</th>\n",
       "      <th>artist_latitude</th>\n",
       "      <th>artist_location</th>\n",
       "      <th>artist_longitude</th>\n",
       "      <th>artist_name</th>\n",
       "      <th>duration</th>\n",
       "      <th>num_songs</th>\n",
       "      <th>title</th>\n",
       "      <th>year</th>\n",
       "    </tr>\n",
       "  </thead>\n",
       "  <tbody>\n",
       "    <tr>\n",
       "      <th>0</th>\n",
       "      <td>ARLTWXK1187FB5A3F8</td>\n",
       "      <td>32.74863</td>\n",
       "      <td>Fort Worth, TX</td>\n",
       "      <td>-97.32925</td>\n",
       "      <td>King Curtis</td>\n",
       "      <td>326.00771</td>\n",
       "      <td>1</td>\n",
       "      <td>A Whiter Shade Of Pale (Live @ Fillmore West)</td>\n",
       "      <td>0</td>\n",
       "    </tr>\n",
       "    <tr>\n",
       "      <th>1</th>\n",
       "      <td>ARIOZCU1187FB3A3DC</td>\n",
       "      <td>NaN</td>\n",
       "      <td>Hamlet, NC</td>\n",
       "      <td>NaN</td>\n",
       "      <td>JOHN COLTRANE</td>\n",
       "      <td>220.44689</td>\n",
       "      <td>1</td>\n",
       "      <td>Giant Steps (Alternate Version_ Take 5_ Altern...</td>\n",
       "      <td>0</td>\n",
       "    </tr>\n",
       "    <tr>\n",
       "      <th>2</th>\n",
       "      <td>ARPFHN61187FB575F6</td>\n",
       "      <td>41.88415</td>\n",
       "      <td>Chicago, IL</td>\n",
       "      <td>-87.63241</td>\n",
       "      <td>Lupe Fiasco</td>\n",
       "      <td>279.97995</td>\n",
       "      <td>1</td>\n",
       "      <td>Streets On Fire (Explicit Album Version)</td>\n",
       "      <td>0</td>\n",
       "    </tr>\n",
       "    <tr>\n",
       "      <th>3</th>\n",
       "      <td>AR5S9OB1187B9931E3</td>\n",
       "      <td>34.05349</td>\n",
       "      <td>Los Angeles, CA</td>\n",
       "      <td>-118.24532</td>\n",
       "      <td>Bullet Boys</td>\n",
       "      <td>156.62975</td>\n",
       "      <td>1</td>\n",
       "      <td>All Day &amp; All Of The Night</td>\n",
       "      <td>0</td>\n",
       "    </tr>\n",
       "    <tr>\n",
       "      <th>4</th>\n",
       "      <td>AR5T40Y1187B9996C6</td>\n",
       "      <td>NaN</td>\n",
       "      <td>Lulea, Sweden</td>\n",
       "      <td>NaN</td>\n",
       "      <td>The Bear Quartet</td>\n",
       "      <td>249.31220</td>\n",
       "      <td>1</td>\n",
       "      <td>I Remember Nights Wide Open</td>\n",
       "      <td>1998</td>\n",
       "    </tr>\n",
       "  </tbody>\n",
       "</table>\n",
       "</div>"
      ],
      "text/plain": [
       "            artist_id  artist_latitude  artist_location  artist_longitude  \\\n",
       "0  ARLTWXK1187FB5A3F8         32.74863   Fort Worth, TX         -97.32925   \n",
       "1  ARIOZCU1187FB3A3DC              NaN       Hamlet, NC               NaN   \n",
       "2  ARPFHN61187FB575F6         41.88415      Chicago, IL         -87.63241   \n",
       "3  AR5S9OB1187B9931E3         34.05349  Los Angeles, CA        -118.24532   \n",
       "4  AR5T40Y1187B9996C6              NaN    Lulea, Sweden               NaN   \n",
       "\n",
       "        artist_name   duration  num_songs  \\\n",
       "0       King Curtis  326.00771          1   \n",
       "1     JOHN COLTRANE  220.44689          1   \n",
       "2       Lupe Fiasco  279.97995          1   \n",
       "3       Bullet Boys  156.62975          1   \n",
       "4  The Bear Quartet  249.31220          1   \n",
       "\n",
       "                                               title  year  \n",
       "0      A Whiter Shade Of Pale (Live @ Fillmore West)     0  \n",
       "1  Giant Steps (Alternate Version_ Take 5_ Altern...     0  \n",
       "2           Streets On Fire (Explicit Album Version)     0  \n",
       "3                         All Day & All Of The Night     0  \n",
       "4                        I Remember Nights Wide Open  1998  "
      ]
     },
     "execution_count": 15,
     "metadata": {},
     "output_type": "execute_result"
    }
   ],
   "source": [
    "df.printSchema()\n",
    "df.limit(5).toPandas()"
   ]
  },
  {
   "cell_type": "markdown",
   "metadata": {
    "editable": true
   },
   "source": [
    "# saving the data"
   ]
  },
  {
   "cell_type": "code",
   "execution_count": 19,
   "metadata": {
    "editable": true
   },
   "outputs": [],
   "source": [
    "import  pyspark.sql.functions as F\n",
    "\n",
    "\n",
    "song_fields = [\"title\", \"artist_id\",\"year\", \"duration\"]\n",
    "\n",
    "songs_table = (df\n",
    "               .select(song_fields)\n",
    "               .dropDuplicates()\n",
    "               .withColumn(\"song_id\", monotonically_increasing_id())\n",
    "              )\n",
    "\n"
   ]
  },
  {
   "cell_type": "code",
   "execution_count": 20,
   "metadata": {
    "editable": true
   },
   "outputs": [
    {
     "name": "stdout",
     "output_type": "stream",
     "text": [
      "+---------------+------------------+----+---------+------------+\n",
      "|          title|         artist_id|year| duration|     song_id|\n",
      "+---------------+------------------+----+---------+------------+\n",
      "|          Intro|AR558FS1187FB45658|2003| 75.67628| 51539607552|\n",
      "|I Need A Mother|ARZGTK71187B9AC7F5|2010|158.01424|137438953472|\n",
      "|          Intro|ARAADXM1187FB3ECDB|1999| 67.63057|335007449088|\n",
      "|            XXX|ARZJDBC1187FB52056|1984|327.00036|395136991232|\n",
      "+---------------+------------------+----+---------+------------+\n",
      "only showing top 4 rows\n",
      "\n"
     ]
    }
   ],
   "source": [
    "songs_table.show(4)"
   ]
  },
  {
   "cell_type": "code",
   "execution_count": 21,
   "metadata": {
    "editable": true
   },
   "outputs": [
    {
     "data": {
      "text/plain": [
       "23"
      ]
     },
     "execution_count": 21,
     "metadata": {},
     "output_type": "execute_result"
    }
   ],
   "source": [
    "songs_table.count()\n"
   ]
  },
  {
   "cell_type": "markdown",
   "metadata": {
    "editable": true
   },
   "source": [
    "### Apache Parquet Introduction\n",
    "\n",
    "Apache Parquet is a columnar file format that provides optimizations to speed up queries and is a far more efficient file format than CSV or JSON, supported by many data processing systems.\n",
    "\n",
    "\n",
    "\n",
    "\n",
    "### Spark Write DataFrame to Parquet file format\n",
    "\n",
    "Using spark.write.parquet() function we can write Spark DataFrame to Parquet file.\n",
    "\n",
    "\n"
   ]
  },
  {
   "cell_type": "markdown",
   "metadata": {
    "editable": true
   },
   "source": [
    "### Spark parquet partition – Improving performance\n",
    "\n",
    "> Partitioning is a feature of many databases and data processing frameworks and it is key to make jobs work at scale. We can do a parquet file partition using spark partitionBy function.\n",
    "\n",
    "> Parquet Partition creates a folder hierarchy for each spark partition; we have mentioned the first partition as year followed by artist_id hence, it creates a artist_id folder inside the year folder."
   ]
  },
  {
   "cell_type": "code",
   "execution_count": 22,
   "metadata": {
    "editable": true
   },
   "outputs": [],
   "source": [
    "    \n",
    "(songs_table\n",
    " .write\n",
    " .partitionBy(\"year\", \"artist_id\")\n",
    " .parquet(output_data + 'songs/')\n",
    ")"
   ]
  },
  {
   "cell_type": "code",
   "execution_count": 31,
   "metadata": {
    "editable": true
   },
   "outputs": [],
   "source": [
    "artists_fields = [\"artist_id\",\n",
    "                  \"artist_name as name\",\n",
    "                  \"artist_location as location\",\n",
    "                  \"artist_latitude as latitude\",\n",
    "                  \"artist_longitude as longitude\"]\n",
    "\n",
    "artists_table = df.selectExpr(artists_fields).dropDuplicates()\n",
    "\n",
    "artists_table.write.parquet(output_data + 'artists/')"
   ]
  },
  {
   "cell_type": "code",
   "execution_count": 32,
   "metadata": {
    "editable": true
   },
   "outputs": [
    {
     "name": "stdout",
     "output_type": "stream",
     "text": [
      "+------------------+----------------+---------------+--------+---------+\n",
      "|         artist_id|            name|       location|latitude|longitude|\n",
      "+------------------+----------------+---------------+--------+---------+\n",
      "|AR5T40Y1187B9996C6|The Bear Quartet|  Lulea, Sweden|    null|     null|\n",
      "|AREH0O41187FB4C405|         Skinlab|        Oakland|    null|     null|\n",
      "|ARZGTK71187B9AC7F5|            Eels|California, USA|    null|     null|\n",
      "+------------------+----------------+---------------+--------+---------+\n",
      "only showing top 3 rows\n",
      "\n"
     ]
    }
   ],
   "source": [
    "artists_table.show(3)"
   ]
  },
  {
   "cell_type": "code",
   "execution_count": null,
   "metadata": {
    "editable": true
   },
   "outputs": [],
   "source": []
  }
 ],
 "metadata": {
  "kernelspec": {
   "display_name": "Python 3",
   "language": "python",
   "name": "python3"
  },
  "language_info": {
   "codemirror_mode": {
    "name": "ipython",
    "version": 3
   },
   "file_extension": ".py",
   "mimetype": "text/x-python",
   "name": "python",
   "nbconvert_exporter": "python",
   "pygments_lexer": "ipython3",
   "version": "3.6.3"
  },
  "toc": {
   "base_numbering": 1,
   "nav_menu": {},
   "number_sections": false,
   "sideBar": true,
   "skip_h1_title": false,
   "title_cell": "Table of Contents",
   "title_sidebar": "Contents",
   "toc_cell": false,
   "toc_position": {},
   "toc_section_display": true,
   "toc_window_display": false
  }
 },
 "nbformat": 4,
 "nbformat_minor": 4
}
